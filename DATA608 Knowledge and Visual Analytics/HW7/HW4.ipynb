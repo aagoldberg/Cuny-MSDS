{
 "cells": [
  {
   "cell_type": "code",
   "execution_count": 1,
   "metadata": {
    "collapsed": true
   },
   "outputs": [],
   "source": [
    "import pandas as pd\n",
    "import numpy as np\n",
    "from bokeh.charts import output_notebook, show, Bar, TimeSeries, Scatter\n",
    "from bokeh.layouts import row\n",
    "from bokeh.plotting import figure, output_file, show\n",
    "from bokeh.charts.attributes import CatAttr\n",
    "from bokeh.palettes import Blues8, brewer, Viridis, grey\n",
    "import matplotlib.pyplot as plt"
   ]
  },
  {
   "cell_type": "code",
   "execution_count": null,
   "metadata": {},
   "outputs": [],
   "source": [
    "output_notebook()"
   ]
  },
  {
   "cell_type": "code",
   "execution_count": null,
   "metadata": {},
   "outputs": [],
   "source": [
    "hudData = pd.read_csv(\"https://raw.githubusercontent.com/charleyferrari/CUNY_DATA608/master/lecture4/Data/riverkeeper_data_2013.csv\")"
   ]
  },
  {
   "cell_type": "code",
   "execution_count": null,
   "metadata": {},
   "outputs": [],
   "source": [
    "hudData['Date'] = pd.to_datetime(hudData['Date'])\n",
    "hudData = hudData.assign(Symbols = hudData['EnteroCount'].str.extract('([<>])'))\n",
    "hudData = hudData.assign(EnteroCountNum = hudData['EnteroCount'].str.extract('([1234567890]+)'))\n",
    "hudData"
   ]
  },
  {
   "cell_type": "code",
   "execution_count": null,
   "metadata": {},
   "outputs": [],
   "source": [
    "q1Data = hudData.sort_values(by='Date', ascending = False).drop_duplicates(['Site'])\n",
    "q1Data['EnteroCountNum'] = pd.to_numeric(q1Data['EnteroCountNum'])\n",
    "q1Data"
   ]
  },
  {
   "cell_type": "code",
   "execution_count": null,
   "metadata": {},
   "outputs": [],
   "source": [
    "topSites = q1Data.sort(['EnteroCountNum'], ascending = False).head(10)\n",
    "botSites = q1Data.sort(['EnteroCountNum'], ascending = True).head(10)\n",
    "bwSites = pd.concat([topSites, botSites])\n",
    "\n",
    "bestSites = Bar(topSites, label=CatAttr(columns=['Site'], sort=False), values='EnteroCountNum', ylabel='Entero Bacteria Count', xlabel='Watershed Site', title = 'Best places to swim', legend=False, color='green')\n",
    "show(bestSites)\n",
    "\n",
    "worstSites = Bar(botSites, label=CatAttr(columns=['Site'], sort=False), values='EnteroCountNum', ylabel='Entero Bacteria Count', xlabel='Watershed Site', title = 'Worst places to swim', legend=False, color='red')\n",
    "show(worstSites)"
   ]
  },
  {
   "cell_type": "code",
   "execution_count": null,
   "metadata": {},
   "outputs": [],
   "source": [
    "earliest = hudData['Date'].min()\n",
    "latest = hudData['Date'].max()\n",
    "rng = pd.date_range(start=earliest, end=latest, freq='M')\n",
    "#q2Data = hudData.assign(DateRange = hudData['EnteroCount'].str.extract('([<>])'))\n",
    "DateMarker = [0]*((hudData['Date'].count()))\n",
    "q2Data = hudData\n",
    "q2Data['DateMarker'] = DateMarker"
   ]
  },
  {
   "cell_type": "code",
   "execution_count": null,
   "metadata": {},
   "outputs": [],
   "source": [
    "sites = ['Gowanus Canal', 'Hudson above Mohawk River', 'Wappingers Creek', 'Upper Sparkill Creek', 'Saw Mill River', 'Newburgh Launch Ramp']\n",
    "q2DataCut = q2Data[q2Data['Site'].isin(sites)]\n",
    "#q2DataCut = q2DataCut.sort_values('EnteroCountNum')\n",
    "vir = Viridis[256]\n",
    "ts2 = TimeSeries(q2DataCut,\n",
    "                x='Date', y='Site',\n",
    "                color='Site', dash='Site', builder_type='point', title=\"Timeseries Points\", ylabel='Watershed', xlabel='Dates of Water Quality Tests', legend=False)\n",
    "show(ts2)"
   ]
  },
  {
   "cell_type": "code",
   "execution_count": null,
   "metadata": {},
   "outputs": [],
   "source": [
    "import seaborn as sns\n",
    "%matplotlib inline\n",
    "sns.pairplot(hudData, x_vars=['EnteroCountNum'], y_vars=['FourDayRainTotal'], size = 7, aspect=.7, kind='reg')\n",
    "hud1 = sns.regplot(x=\"EnteroCountNum\", y=\"FourDayRainTotal\", data=hudData)\n",
    "q2DataCut['EnteroCountNum'] = pd.to_numeric(q2DataCut['EnteroCountNum'])\n",
    "q3b = sns.FacetGrid(q2DataCut, col=\"Site\")\n",
    "g3b = q3b.map(sns.regplot, 'EnteroCountNum', 'FourDayRainTotal')"
   ]
  }
 ],
 "metadata": {
  "kernelspec": {
   "display_name": "Python 2",
   "language": "python",
   "name": "python2"
  },
  "language_info": {
   "codemirror_mode": {
    "name": "ipython",
    "version": 2.0
   },
   "file_extension": ".py",
   "mimetype": "text/x-python",
   "name": "python",
   "nbconvert_exporter": "python",
   "pygments_lexer": "ipython2",
   "version": "2.7.6"
  }
 },
 "nbformat": 4,
 "nbformat_minor": 0
}